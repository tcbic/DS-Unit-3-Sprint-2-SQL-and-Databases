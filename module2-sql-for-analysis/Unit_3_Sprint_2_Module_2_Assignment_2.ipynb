{
  "nbformat": 4,
  "nbformat_minor": 0,
  "metadata": {
    "colab": {
      "name": "Unit 3_Sprint 2_Module 2_Assignment 2.ipynb",
      "version": "0.3.2",
      "provenance": [],
      "collapsed_sections": [],
      "include_colab_link": true
    },
    "kernelspec": {
      "name": "python3",
      "display_name": "Python 3"
    }
  },
  "cells": [
    {
      "cell_type": "markdown",
      "metadata": {
        "id": "view-in-github",
        "colab_type": "text"
      },
      "source": [
        "<a href=\"https://colab.research.google.com/github/tcbic/DS-Unit-3-Sprint-2-SQL-and-Databases/blob/master/module2-sql-for-analysis/Unit_3_Sprint_2_Module_2_Assignment_2.ipynb\" target=\"_parent\"><img src=\"https://colab.research.google.com/assets/colab-badge.svg\" alt=\"Open In Colab\"/></a>"
      ]
    },
    {
      "cell_type": "markdown",
      "metadata": {
        "id": "k1U9FWlSUIAB",
        "colab_type": "text"
      },
      "source": [
        "**Connecting PostgreSQL from Python**"
      ]
    },
    {
      "cell_type": "code",
      "metadata": {
        "id": "eUcXYQ3S4gLV",
        "colab_type": "code",
        "outputId": "455c2c79-f899-4eda-c8cd-11c4c3ebb856",
        "colab": {
          "base_uri": "https://localhost:8080/",
          "height": 106
        }
      },
      "source": [
        "!pip install psycopg2-binary"
      ],
      "execution_count": 1,
      "outputs": [
        {
          "output_type": "stream",
          "text": [
            "Collecting psycopg2-binary\n",
            "\u001b[?25l  Downloading https://files.pythonhosted.org/packages/b1/35/75c9c2d9cfc073ab6c42b2d8e91ff58c9b99f4ed7ed56b36647642e6080e/psycopg2_binary-2.8.3-cp36-cp36m-manylinux1_x86_64.whl (2.9MB)\n",
            "\u001b[K     |████████████████████████████████| 2.9MB 4.0MB/s \n",
            "\u001b[?25hInstalling collected packages: psycopg2-binary\n",
            "Successfully installed psycopg2-binary-2.8.3\n"
          ],
          "name": "stdout"
        }
      ]
    },
    {
      "cell_type": "code",
      "metadata": {
        "id": "PJi0mGIB470v",
        "colab_type": "code",
        "colab": {}
      },
      "source": [
        "import psycopg2"
      ],
      "execution_count": 0,
      "outputs": []
    },
    {
      "cell_type": "code",
      "metadata": {
        "id": "h7h100a_5Dx1",
        "colab_type": "code",
        "colab": {}
      },
      "source": [
        "#Input information from ElephantSQL.\n",
        "\n",
        "dbname = 'ubvnhvje'\n",
        "\n",
        "user = 'ubvnhvje'\n",
        "\n",
        "password = 'BLANK'\n",
        "\n",
        "host = 'raja.db.elephantsql.com'"
      ],
      "execution_count": 0,
      "outputs": []
    },
    {
      "cell_type": "code",
      "metadata": {
        "id": "2vptrE2_5O-s",
        "colab_type": "code",
        "colab": {}
      },
      "source": [
        "#Make a connection object (establishing a connection allows us to authenticate and connect to\n",
        "#the database programmatically).\n",
        "\n",
        "pg_conn = psycopg2.connect(dbname=dbname , user=user, password=password, host=host)"
      ],
      "execution_count": 0,
      "outputs": []
    },
    {
      "cell_type": "code",
      "metadata": {
        "id": "oIRpzrp67lMC",
        "colab_type": "code",
        "colab": {}
      },
      "source": [
        "#Create a cursor (let's us be somewhere in the data to retrieve a row/record).\n",
        "\n",
        "pg_curs = pg_conn.cursor()"
      ],
      "execution_count": 0,
      "outputs": []
    },
    {
      "cell_type": "code",
      "metadata": {
        "id": "6E0eTAvHWJXc",
        "colab_type": "code",
        "colab": {
          "base_uri": "https://localhost:8080/",
          "height": 52
        },
        "outputId": "317ce7a9-238a-4307-a1b4-6832c221e019"
      },
      "source": [
        "pg_curs.execute('SELECT * FROM test_table;')\n",
        "pg_curs.fetchall()"
      ],
      "execution_count": 6,
      "outputs": [
        {
          "output_type": "execute_result",
          "data": {
            "text/plain": [
              "[(1, 'A row name', None),\n",
              " (2, 'Another row, with JSON', {'a': 1, 'b': ['dog', 'cat', 42], 'c': True})]"
            ]
          },
          "metadata": {
            "tags": []
          },
          "execution_count": 6
        }
      ]
    },
    {
      "cell_type": "code",
      "metadata": {
        "id": "lyTz-vYUzwxp",
        "colab_type": "code",
        "colab": {}
      },
      "source": [
        "#So, what we are doing is getting the RPG data out of SQLite and inserting it into PostgreSQL.\n",
        "#AKA, we are making a data pipeline!\n",
        "#AKA, an ETL (Extract Transform Load)"
      ],
      "execution_count": 0,
      "outputs": []
    },
    {
      "cell_type": "code",
      "metadata": {
        "id": "pzsvBCnJ7pZZ",
        "colab_type": "code",
        "colab": {}
      },
      "source": [
        "#Now, make the character table in PostgreSQL."
      ],
      "execution_count": 0,
      "outputs": []
    },
    {
      "cell_type": "code",
      "metadata": {
        "id": "LNRAUA0J8peq",
        "colab_type": "code",
        "outputId": "983eaefe-f6d1-4df0-fa56-5131ef979751",
        "colab": {
          "base_uri": "https://localhost:8080/",
          "height": 392
        }
      },
      "source": [
        "#Download the raw sqlite3 database from GitHub.\n",
        "\n",
        "!wget https://github.com/LambdaSchool/DS-Unit-3-Sprint-2-SQL-and-Databases/blob/master/module1-introduction-to-sql/rpg_db.sqlite3?raw=true"
      ],
      "execution_count": 9,
      "outputs": [
        {
          "output_type": "stream",
          "text": [
            "--2019-08-14 03:24:17--  https://github.com/LambdaSchool/DS-Unit-3-Sprint-2-SQL-and-Databases/blob/master/module1-introduction-to-sql/rpg_db.sqlite3?raw=true\n",
            "Resolving github.com (github.com)... 192.30.255.112\n",
            "Connecting to github.com (github.com)|192.30.255.112|:443... connected.\n",
            "HTTP request sent, awaiting response... 302 Found\n",
            "Location: https://github.com/LambdaSchool/DS-Unit-3-Sprint-2-SQL-and-Databases/raw/master/module1-introduction-to-sql/rpg_db.sqlite3 [following]\n",
            "--2019-08-14 03:24:17--  https://github.com/LambdaSchool/DS-Unit-3-Sprint-2-SQL-and-Databases/raw/master/module1-introduction-to-sql/rpg_db.sqlite3\n",
            "Reusing existing connection to github.com:443.\n",
            "HTTP request sent, awaiting response... 302 Found\n",
            "Location: https://raw.githubusercontent.com/LambdaSchool/DS-Unit-3-Sprint-2-SQL-and-Databases/master/module1-introduction-to-sql/rpg_db.sqlite3 [following]\n",
            "--2019-08-14 03:24:17--  https://raw.githubusercontent.com/LambdaSchool/DS-Unit-3-Sprint-2-SQL-and-Databases/master/module1-introduction-to-sql/rpg_db.sqlite3\n",
            "Resolving raw.githubusercontent.com (raw.githubusercontent.com)... 151.101.0.133, 151.101.64.133, 151.101.128.133, ...\n",
            "Connecting to raw.githubusercontent.com (raw.githubusercontent.com)|151.101.0.133|:443... connected.\n",
            "HTTP request sent, awaiting response... 200 OK\n",
            "Length: 253952 (248K) [application/octet-stream]\n",
            "Saving to: ‘rpg_db.sqlite3?raw=true’\n",
            "\n",
            "rpg_db.sqlite3?raw= 100%[===================>] 248.00K  --.-KB/s    in 0.03s   \n",
            "\n",
            "2019-08-14 03:24:17 (8.59 MB/s) - ‘rpg_db.sqlite3?raw=true’ saved [253952/253952]\n",
            "\n"
          ],
          "name": "stdout"
        }
      ]
    },
    {
      "cell_type": "code",
      "metadata": {
        "id": "PZyLm0HR81x8",
        "colab_type": "code",
        "outputId": "f5ecb1aa-d8ab-4205-b4a4-3f306ed1d94a",
        "colab": {
          "base_uri": "https://localhost:8080/",
          "height": 124
        }
      },
      "source": [
        "!ls -alh"
      ],
      "execution_count": 10,
      "outputs": [
        {
          "output_type": "stream",
          "text": [
            "total 264K\n",
            "drwxr-xr-x 1 root root 4.0K Aug 14 03:24  .\n",
            "drwxr-xr-x 1 root root 4.0K Aug 14 02:51  ..\n",
            "drwxr-xr-x 1 root root 4.0K Aug  7 16:05  .config\n",
            "-rw-r--r-- 1 root root 248K Aug 14 03:24 'rpg_db.sqlite3?raw=true'\n",
            "drwxr-xr-x 1 root root 4.0K Aug  2 16:06  sample_data\n"
          ],
          "name": "stdout"
        }
      ]
    },
    {
      "cell_type": "code",
      "metadata": {
        "id": "GaSwV8D-85FO",
        "colab_type": "code",
        "colab": {}
      },
      "source": [
        "#Rename the file.\n",
        "\n",
        "!mv 'rpg_db.sqlite3?raw=true' rpg_db.sqlite3"
      ],
      "execution_count": 0,
      "outputs": []
    },
    {
      "cell_type": "code",
      "metadata": {
        "id": "vSnRvmLEW8Gr",
        "colab_type": "code",
        "colab": {}
      },
      "source": [
        "#Explore the sqlite3 database we downloaded in python."
      ],
      "execution_count": 0,
      "outputs": []
    },
    {
      "cell_type": "code",
      "metadata": {
        "id": "rfRKUgX79NXS",
        "colab_type": "code",
        "colab": {}
      },
      "source": [
        "#First, import the sqlite3 module.\n",
        "\n",
        "import sqlite3"
      ],
      "execution_count": 0,
      "outputs": []
    },
    {
      "cell_type": "code",
      "metadata": {
        "id": "0hazHcaJ9QQM",
        "colab_type": "code",
        "colab": {}
      },
      "source": [
        "#Using sl as abbreviation for sqlite3.\n",
        "\n",
        "sl_conn = sqlite3.connect('rpg_db.sqlite3')\n",
        "sl_curs = sl_conn.cursor()"
      ],
      "execution_count": 0,
      "outputs": []
    },
    {
      "cell_type": "code",
      "metadata": {
        "id": "YxsG49C89gye",
        "colab_type": "code",
        "colab": {
          "base_uri": "https://localhost:8080/",
          "height": 35
        },
        "outputId": "c57c764d-c0aa-4926-d312-311b0ad79663"
      },
      "source": [
        "#An example query to check it out.\n",
        "\n",
        "sl_curs.execute('SELECT COUNT(*) FROM charactercreator_character;').fetchall()"
      ],
      "execution_count": 15,
      "outputs": [
        {
          "output_type": "execute_result",
          "data": {
            "text/plain": [
              "[(302,)]"
            ]
          },
          "metadata": {
            "tags": []
          },
          "execution_count": 15
        }
      ]
    },
    {
      "cell_type": "code",
      "metadata": {
        "id": "jQEEnzAP9_L0",
        "colab_type": "code",
        "colab": {}
      },
      "source": [
        "#Our goal- an ETL/data pipeline \n",
        "#Get the character data from SQLite to Python.\n",
        "\n",
        "#Our target table(for live demo) - characters\n",
        "\n",
        "#Extract step:\n",
        "\n",
        "characters = sl_curs.execute('SELECT * FROM charactercreator_character;').fetchall()"
      ],
      "execution_count": 0,
      "outputs": []
    },
    {
      "cell_type": "code",
      "metadata": {
        "id": "zUK25utB-za1",
        "colab_type": "code",
        "colab": {
          "base_uri": "https://localhost:8080/",
          "height": 35
        },
        "outputId": "c8834d79-61e5-44eb-a3f6-1f1f696cd75d"
      },
      "source": [
        "#Look at the first character.\n",
        "\n",
        "characters[0]"
      ],
      "execution_count": 17,
      "outputs": [
        {
          "output_type": "execute_result",
          "data": {
            "text/plain": [
              "(1, 'Aliquid iste optio reiciendi', 0, 0, 10, 1, 1, 1, 1)"
            ]
          },
          "metadata": {
            "tags": []
          },
          "execution_count": 17
        }
      ]
    },
    {
      "cell_type": "code",
      "metadata": {
        "id": "BeTTAE7o-80P",
        "colab_type": "code",
        "colab": {
          "base_uri": "https://localhost:8080/",
          "height": 35
        },
        "outputId": "b5ed614c-5c49-445e-8204-33499869aea9"
      },
      "source": [
        "#Look at the last character.\n",
        "\n",
        "characters[-1]"
      ],
      "execution_count": 18,
      "outputs": [
        {
          "output_type": "execute_result",
          "data": {
            "text/plain": [
              "(302, 'Aliquam n', 0, 0, 10, 1, 1, 1, 1)"
            ]
          },
          "metadata": {
            "tags": []
          },
          "execution_count": 18
        }
      ]
    },
    {
      "cell_type": "code",
      "metadata": {
        "id": "9Eh9jOtk_Ae8",
        "colab_type": "code",
        "colab": {
          "base_uri": "https://localhost:8080/",
          "height": 35
        },
        "outputId": "5466a7cf-c2ac-4318-83f4-b217f8f87a48"
      },
      "source": [
        "#Check number of character entries we should have.\n",
        "\n",
        "len(characters)"
      ],
      "execution_count": 19,
      "outputs": [
        {
          "output_type": "execute_result",
          "data": {
            "text/plain": [
              "302"
            ]
          },
          "metadata": {
            "tags": []
          },
          "execution_count": 19
        }
      ]
    },
    {
      "cell_type": "code",
      "metadata": {
        "id": "GLpasvhbZB27",
        "colab_type": "code",
        "colab": {}
      },
      "source": [
        "#So, our Extract is done! Transform next...\n",
        "#Now that we have the data, we need some place to put the data. "
      ],
      "execution_count": 0,
      "outputs": []
    },
    {
      "cell_type": "code",
      "metadata": {
        "id": "MI9d3mzbeiQq",
        "colab_type": "code",
        "colab": {}
      },
      "source": [
        "#To do this, we need to define the schema. \n",
        "#We need the PostgreSQL db to have a table with an appropriate schema."
      ],
      "execution_count": 0,
      "outputs": []
    },
    {
      "cell_type": "code",
      "metadata": {
        "id": "VTqbyj_X_I2A",
        "colab_type": "code",
        "colab": {}
      },
      "source": [
        "#Create a table.\n",
        "#This creates a table within our PostgreSQL database.\n",
        "\n",
        "create_character_table = \"\"\" \n",
        "  CREATE TABLE charactercreator_character (\n",
        "    character_id SERIAL PRIMARY KEY,\n",
        "    name VARCHAR(30),\n",
        "    level INT,\n",
        "    exp INT,\n",
        "    hp INT,\n",
        "    strength INT,\n",
        "    intelligence INT,\n",
        "    dexterity INT,\n",
        "    wisdom INT\n",
        "   );\n",
        "  \"\"\""
      ],
      "execution_count": 0,
      "outputs": []
    },
    {
      "cell_type": "code",
      "metadata": {
        "id": "bx11p-wv_NNl",
        "colab_type": "code",
        "colab": {
          "base_uri": "https://localhost:8080/",
          "height": 185
        },
        "outputId": "dd247ff6-c801-4538-f4c0-66c3bab337c4"
      },
      "source": [
        "#Just execute, no fecthall as we are not retrieving anything.\n",
        "\n",
        "pg_curs.execute(create_character_table)"
      ],
      "execution_count": 23,
      "outputs": [
        {
          "output_type": "error",
          "ename": "DuplicateTable",
          "evalue": "ignored",
          "traceback": [
            "\u001b[0;31m---------------------------------------------------------------------------\u001b[0m",
            "\u001b[0;31mDuplicateTable\u001b[0m                            Traceback (most recent call last)",
            "\u001b[0;32m<ipython-input-23-7ae2ddc66cb9>\u001b[0m in \u001b[0;36m<module>\u001b[0;34m()\u001b[0m\n\u001b[1;32m      1\u001b[0m \u001b[0;34m\u001b[0m\u001b[0m\n\u001b[0;32m----> 2\u001b[0;31m \u001b[0mpg_curs\u001b[0m\u001b[0;34m.\u001b[0m\u001b[0mexecute\u001b[0m\u001b[0;34m(\u001b[0m\u001b[0mcreate_character_table\u001b[0m\u001b[0;34m)\u001b[0m\u001b[0;34m\u001b[0m\u001b[0;34m\u001b[0m\u001b[0m\n\u001b[0m",
            "\u001b[0;31mDuplicateTable\u001b[0m: relation \"charactercreator_character\" already exists\n"
          ]
        }
      ]
    },
    {
      "cell_type": "code",
      "metadata": {
        "id": "8DQ3rpJf50oC",
        "colab_type": "code",
        "colab": {}
      },
      "source": [
        "#The Transform (making the target ready to get data) is done. Now, we need\n",
        "#to actually load values, insert our characters."
      ],
      "execution_count": 0,
      "outputs": []
    },
    {
      "cell_type": "code",
      "metadata": {
        "id": "UoMXYVFBC0JC",
        "colab_type": "code",
        "colab": {}
      },
      "source": [
        "#Reference cells...\n",
        "\n",
        "print(characters[0])\n",
        "\n",
        "#Slice to remove the id value.\n",
        "\n",
        "print(characters[0][1:])"
      ],
      "execution_count": 0,
      "outputs": []
    },
    {
      "cell_type": "code",
      "metadata": {
        "id": "Clxsg7hP6eME",
        "colab_type": "code",
        "colab": {}
      },
      "source": [
        "#And instead of being in the form of a tuple, we want it in the form of a string.\n",
        "\n",
        "str(characters[0][1:])"
      ],
      "execution_count": 0,
      "outputs": []
    },
    {
      "cell_type": "code",
      "metadata": {
        "id": "oSXqkEaVCPgA",
        "colab_type": "code",
        "colab": {}
      },
      "source": [
        "#Use the cells above as a reference, as those contents look a lot like what\n",
        "#we want to include in our table.\n",
        "\n",
        "#This is for one character.\n",
        "\n",
        "example_insert = \"\"\"\n",
        "INSERT INTO charactercreator_charcater\n",
        "(name, level, exp, hp, strength, intelligence, dexterity, wisdom)\n",
        "VALUES \"\"\" + str(characters[0][1:]) + ';'"
      ],
      "execution_count": 0,
      "outputs": []
    },
    {
      "cell_type": "code",
      "metadata": {
        "id": "CCwOBGR266DW",
        "colab_type": "code",
        "colab": {}
      },
      "source": [
        "print(example_insert)"
      ],
      "execution_count": 0,
      "outputs": []
    },
    {
      "cell_type": "code",
      "metadata": {
        "id": "b6oP1IcKDMpP",
        "colab_type": "code",
        "colab": {}
      },
      "source": [
        "#That's for one character, but how do we do this for all characters? Loops.\n",
        "\n",
        "for character in characters:\n",
        "  insert_character = \"\"\"\n",
        "    INSERT INTO charactercreator_character\n",
        "    (name, level, exp, hp, strength, intelligence, dexterity, wisdom)\n",
        "    VALUES\"\"\" + str(characters[1:]) + ';'"
      ],
      "execution_count": 0,
      "outputs": []
    },
    {
      "cell_type": "code",
      "metadata": {
        "id": "CEVIsEodEDw5",
        "colab_type": "code",
        "colab": {}
      },
      "source": [
        "pg_curs.execute(insert_character)"
      ],
      "execution_count": 0,
      "outputs": []
    },
    {
      "cell_type": "code",
      "metadata": {
        "id": "CGrpEew6Eq95",
        "colab_type": "code",
        "colab": {}
      },
      "source": [
        "#At this point, we can see it from this cursor- but not from elephantsql.com.\n",
        "\n",
        "#We have to commit, which saves to the database!\n",
        "\n",
        "pg_curs.close()\n",
        "pg_conn.commit()"
      ],
      "execution_count": 0,
      "outputs": []
    },
    {
      "cell_type": "code",
      "metadata": {
        "id": "sGXFiN0AF-qt",
        "colab_type": "code",
        "colab": {}
      },
      "source": [
        "#Ok, we can see it in elephantsql.com now.\n",
        "#But, let's also check programmatically.\n",
        "\n",
        "#Make another cursor as we closed the cursor.\n",
        "pg_curs = pg_conn.cursor()\n",
        "pg_curs.execute('SELECT * FROM charactercreator_character;')\n",
        "pg_characters = pg_curs.fetchall()"
      ],
      "execution_count": 0,
      "outputs": []
    },
    {
      "cell_type": "code",
      "metadata": {
        "id": "6_hfd3jLCata",
        "colab_type": "code",
        "colab": {}
      },
      "source": [
        "characters[0]"
      ],
      "execution_count": 0,
      "outputs": []
    },
    {
      "cell_type": "code",
      "metadata": {
        "id": "CuibICH3Cg-d",
        "colab_type": "code",
        "colab": {}
      },
      "source": [
        "for character, pg_character in zip(characters, pg_characters):\n",
        "  assert character == pg_character"
      ],
      "execution_count": 0,
      "outputs": []
    },
    {
      "cell_type": "code",
      "metadata": {
        "id": "ECpmZyKiC2Ig",
        "colab_type": "code",
        "colab": {}
      },
      "source": [
        "#If nothing happens, this means they are all the same.\n",
        "#We have successfully performed and validated an ETL."
      ],
      "execution_count": 0,
      "outputs": []
    }
  ]
}