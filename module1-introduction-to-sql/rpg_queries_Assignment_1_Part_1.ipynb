{
 "cells": [
  {
   "cell_type": "code",
   "execution_count": 1,
   "metadata": {},
   "outputs": [],
   "source": [
    "import sqlite3"
   ]
  },
  {
   "cell_type": "code",
   "execution_count": 2,
   "metadata": {},
   "outputs": [],
   "source": [
    "#Load the data.\n",
    "\n",
    "conn = sqlite3.connect('rpg_db.sqlite3')"
   ]
  },
  {
   "cell_type": "markdown",
   "metadata": {},
   "source": [
    "1) How many total Characters are there?"
   ]
  },
  {
   "cell_type": "code",
   "execution_count": 3,
   "metadata": {},
   "outputs": [],
   "source": [
    "#Create a cursor object.\n",
    "\n",
    "curs1 = conn.cursor()"
   ]
  },
  {
   "cell_type": "code",
   "execution_count": 4,
   "metadata": {},
   "outputs": [],
   "source": [
    "#Write the query.\n",
    "\n",
    "query1 = 'SELECT COUNT(*) FROM charactercreator_character;'"
   ]
  },
  {
   "cell_type": "code",
   "execution_count": 5,
   "metadata": {},
   "outputs": [],
   "source": [
    "#Execute the query.\n",
    "\n",
    "total_characters = curs1.execute(query1).fetchall()"
   ]
  },
  {
   "cell_type": "code",
   "execution_count": 6,
   "metadata": {},
   "outputs": [
    {
     "name": "stdout",
     "output_type": "stream",
     "text": [
      "[(302,)]\n"
     ]
    }
   ],
   "source": [
    "print(total_characters)"
   ]
  },
  {
   "cell_type": "markdown",
   "metadata": {},
   "source": [
    "2) How many of each specific subclass?"
   ]
  },
  {
   "cell_type": "markdown",
   "metadata": {},
   "source": [
    "Cleric"
   ]
  },
  {
   "cell_type": "code",
   "execution_count": 12,
   "metadata": {},
   "outputs": [],
   "source": [
    "#Create a cursor object.\n",
    "\n",
    "curs2a = conn.cursor()"
   ]
  },
  {
   "cell_type": "code",
   "execution_count": 13,
   "metadata": {},
   "outputs": [],
   "source": [
    "#Write the query.\n",
    "\n",
    "query2a = 'SELECT COUNT(*) FROM charactercreator_cleric;'"
   ]
  },
  {
   "cell_type": "code",
   "execution_count": 16,
   "metadata": {},
   "outputs": [],
   "source": [
    "#Execute the query.\n",
    "\n",
    "total_sub_cleric = curs2a.execute(query2a).fetchall()"
   ]
  },
  {
   "cell_type": "code",
   "execution_count": 17,
   "metadata": {},
   "outputs": [
    {
     "name": "stdout",
     "output_type": "stream",
     "text": [
      "[(75,)]\n"
     ]
    }
   ],
   "source": [
    "print(total_sub_cleric)"
   ]
  },
  {
   "cell_type": "markdown",
   "metadata": {},
   "source": [
    "Fighter"
   ]
  },
  {
   "cell_type": "code",
   "execution_count": 18,
   "metadata": {},
   "outputs": [],
   "source": [
    "#Create a cursor object.\n",
    "\n",
    "curs2b = conn.cursor()"
   ]
  },
  {
   "cell_type": "code",
   "execution_count": 19,
   "metadata": {},
   "outputs": [],
   "source": [
    "#Write the query.\n",
    "\n",
    "query2b = 'SELECT COUNT(*) FROM charactercreator_fighter;'"
   ]
  },
  {
   "cell_type": "code",
   "execution_count": 20,
   "metadata": {},
   "outputs": [],
   "source": [
    "#Execute the query.\n",
    "\n",
    "total_sub_fighter = curs2b.execute(query2b).fetchall()"
   ]
  },
  {
   "cell_type": "code",
   "execution_count": 21,
   "metadata": {},
   "outputs": [
    {
     "name": "stdout",
     "output_type": "stream",
     "text": [
      "[(68,)]\n"
     ]
    }
   ],
   "source": [
    "print(total_sub_fighter)"
   ]
  },
  {
   "cell_type": "markdown",
   "metadata": {},
   "source": [
    "Mage"
   ]
  },
  {
   "cell_type": "code",
   "execution_count": 22,
   "metadata": {},
   "outputs": [],
   "source": [
    "#Create a cursor object.\n",
    "\n",
    "curs2c = conn.cursor()"
   ]
  },
  {
   "cell_type": "code",
   "execution_count": 23,
   "metadata": {},
   "outputs": [],
   "source": [
    "#Write the query.\n",
    "\n",
    "query2c = 'SELECT COUNT(*) FROM charactercreator_mage;'"
   ]
  },
  {
   "cell_type": "code",
   "execution_count": 24,
   "metadata": {},
   "outputs": [],
   "source": [
    "total_sub_mage = curs2c.execute(query2c).fetchall()"
   ]
  },
  {
   "cell_type": "code",
   "execution_count": 25,
   "metadata": {},
   "outputs": [
    {
     "name": "stdout",
     "output_type": "stream",
     "text": [
      "[(108,)]\n"
     ]
    }
   ],
   "source": [
    "print(total_sub_mage)"
   ]
  },
  {
   "cell_type": "markdown",
   "metadata": {},
   "source": [
    "Necromancer"
   ]
  },
  {
   "cell_type": "code",
   "execution_count": 26,
   "metadata": {},
   "outputs": [],
   "source": [
    "#Create a cursor object.\n",
    "\n",
    "curs2d = conn.cursor()"
   ]
  },
  {
   "cell_type": "code",
   "execution_count": 27,
   "metadata": {},
   "outputs": [],
   "source": [
    "#Write the query.\n",
    "\n",
    "query2d = 'SELECT COUNT(*) FROM charactercreator_necromancer;'"
   ]
  },
  {
   "cell_type": "code",
   "execution_count": 28,
   "metadata": {},
   "outputs": [],
   "source": [
    "total_sub_necro = curs2d.execute(query2d).fetchall()"
   ]
  },
  {
   "cell_type": "code",
   "execution_count": 29,
   "metadata": {},
   "outputs": [
    {
     "name": "stdout",
     "output_type": "stream",
     "text": [
      "[(11,)]\n"
     ]
    }
   ],
   "source": [
    "print(total_sub_necro)"
   ]
  },
  {
   "cell_type": "markdown",
   "metadata": {},
   "source": [
    "Thief"
   ]
  },
  {
   "cell_type": "code",
   "execution_count": 30,
   "metadata": {},
   "outputs": [],
   "source": [
    "#Create a cursor object.\n",
    "\n",
    "curs2e = conn.cursor()"
   ]
  },
  {
   "cell_type": "code",
   "execution_count": 31,
   "metadata": {},
   "outputs": [],
   "source": [
    "#Write the query.\n",
    "\n",
    "query2e = 'SELECT COUNT(*) FROM charactercreator_thief;'"
   ]
  },
  {
   "cell_type": "code",
   "execution_count": 32,
   "metadata": {},
   "outputs": [],
   "source": [
    "#Execute the query.\n",
    "\n",
    "total_sub_thief = curs2e.execute(query2e).fetchall()"
   ]
  },
  {
   "cell_type": "code",
   "execution_count": 33,
   "metadata": {},
   "outputs": [
    {
     "name": "stdout",
     "output_type": "stream",
     "text": [
      "[(51,)]\n"
     ]
    }
   ],
   "source": [
    "print(total_sub_thief)"
   ]
  },
  {
   "cell_type": "markdown",
   "metadata": {},
   "source": [
    "3) How many total Items?"
   ]
  },
  {
   "cell_type": "code",
   "execution_count": 38,
   "metadata": {},
   "outputs": [],
   "source": [
    "#Create a cursor object.\n",
    "\n",
    "curs3 = conn.cursor()"
   ]
  },
  {
   "cell_type": "code",
   "execution_count": 39,
   "metadata": {},
   "outputs": [],
   "source": [
    "#Write the query.\n",
    "\n",
    "query3 = 'SELECT COUNT(*) FROM armory_item;'"
   ]
  },
  {
   "cell_type": "code",
   "execution_count": 40,
   "metadata": {},
   "outputs": [],
   "source": [
    "#Execute the query.\n",
    "\n",
    "total_items = curs3.execute(query3).fetchall()"
   ]
  },
  {
   "cell_type": "code",
   "execution_count": 41,
   "metadata": {},
   "outputs": [
    {
     "name": "stdout",
     "output_type": "stream",
     "text": [
      "[(174,)]\n"
     ]
    }
   ],
   "source": [
    "print(total_items)"
   ]
  },
  {
   "cell_type": "markdown",
   "metadata": {},
   "source": [
    "4) How many of the Items are weapons? How many are not?"
   ]
  },
  {
   "cell_type": "code",
   "execution_count": 42,
   "metadata": {},
   "outputs": [],
   "source": [
    "#Create a cursor object.\n",
    "\n",
    "curs4a = conn.cursor()"
   ]
  },
  {
   "cell_type": "code",
   "execution_count": 43,
   "metadata": {},
   "outputs": [],
   "source": [
    "#Write the query.\n",
    "\n",
    "query4a = 'SELECT COUNT(*) FROM armory_weapon;'"
   ]
  },
  {
   "cell_type": "code",
   "execution_count": 44,
   "metadata": {},
   "outputs": [],
   "source": [
    "#Execute the query.\n",
    "\n",
    "total_items_weapon = curs4a.execute(query4a).fetchall()"
   ]
  },
  {
   "cell_type": "code",
   "execution_count": 45,
   "metadata": {},
   "outputs": [
    {
     "name": "stdout",
     "output_type": "stream",
     "text": [
      "[(37,)]\n"
     ]
    }
   ],
   "source": [
    "print(total_items_weapon)"
   ]
  },
  {
   "cell_type": "markdown",
   "metadata": {},
   "source": [
    "Total of Items that aren't weapons"
   ]
  },
  {
   "cell_type": "code",
   "execution_count": 47,
   "metadata": {},
   "outputs": [
    {
     "name": "stdout",
     "output_type": "stream",
     "text": [
      "137\n"
     ]
    }
   ],
   "source": [
    "total_items_not_weapons = 174-37\n",
    "\n",
    "print(total_items_not_weapons)"
   ]
  },
  {
   "cell_type": "markdown",
   "metadata": {},
   "source": [
    "5) How many Items does each character have? (Return first 20 rows)"
   ]
  },
  {
   "cell_type": "code",
   "execution_count": 48,
   "metadata": {},
   "outputs": [],
   "source": [
    "#Create a cursor object.\n",
    "\n",
    "curs5 = conn.cursor()"
   ]
  },
  {
   "cell_type": "code",
   "execution_count": 49,
   "metadata": {},
   "outputs": [],
   "source": [
    "#Write the query.\n",
    "\n",
    "query5 = '''SELECT character_id, COUNT(item_id)\n",
    "FROM charactercreator_character_inventory\n",
    "GROUP BY character_id \n",
    "LIMIT 20;'''"
   ]
  },
  {
   "cell_type": "code",
   "execution_count": 50,
   "metadata": {},
   "outputs": [],
   "source": [
    "#Execute the query.\n",
    "\n",
    "total_char_items = curs5.execute(query5).fetchall()"
   ]
  },
  {
   "cell_type": "code",
   "execution_count": 51,
   "metadata": {},
   "outputs": [
    {
     "name": "stdout",
     "output_type": "stream",
     "text": [
      "[(1, 3), (2, 3), (3, 2), (4, 4), (5, 4), (6, 1), (7, 5), (8, 3), (9, 4), (10, 4), (11, 3), (12, 3), (13, 4), (14, 4), (15, 4), (16, 1), (17, 5), (18, 5), (19, 3), (20, 1)]\n"
     ]
    }
   ],
   "source": [
    "print(total_char_items)"
   ]
  },
  {
   "cell_type": "markdown",
   "metadata": {},
   "source": [
    "6) How many Weapons does each character have? (Return first 20 rows)"
   ]
  },
  {
   "cell_type": "code",
   "execution_count": 52,
   "metadata": {},
   "outputs": [],
   "source": [
    "#Create a cursor object.\n",
    "\n",
    "curs6 = conn.cursor()"
   ]
  },
  {
   "cell_type": "code",
   "execution_count": 53,
   "metadata": {},
   "outputs": [],
   "source": [
    "query6 = '''SELECT inv.character_id, COUNT(item_ptr_id)\n",
    "FROM charactercreator_character_inventory AS inv\n",
    "LEFT JOIN armory_weapon \n",
    "ON inv.item_id = armory_weapon.item_ptr_id\n",
    "GROUP BY character_id\n",
    "LIMIT 20;'''"
   ]
  },
  {
   "cell_type": "code",
   "execution_count": 54,
   "metadata": {},
   "outputs": [],
   "source": [
    "#Execute the query.\n",
    "\n",
    "total_char_weapons = curs6.execute(query6).fetchall()"
   ]
  },
  {
   "cell_type": "code",
   "execution_count": 55,
   "metadata": {},
   "outputs": [
    {
     "name": "stdout",
     "output_type": "stream",
     "text": [
      "[(1, 0), (2, 0), (3, 0), (4, 0), (5, 2), (6, 0), (7, 1), (8, 0), (9, 0), (10, 0), (11, 1), (12, 0), (13, 0), (14, 0), (15, 0), (16, 0), (17, 0), (18, 0), (19, 0), (20, 1)]\n"
     ]
    }
   ],
   "source": [
    "print(total_char_weapons)"
   ]
  },
  {
   "cell_type": "markdown",
   "metadata": {},
   "source": [
    "7) On average, how many Items does each Character have?"
   ]
  },
  {
   "cell_type": "code",
   "execution_count": 62,
   "metadata": {},
   "outputs": [],
   "source": [
    "#Create a cursor object.\n",
    "\n",
    "curs7 = conn.cursor()"
   ]
  },
  {
   "cell_type": "code",
   "execution_count": 63,
   "metadata": {},
   "outputs": [],
   "source": [
    "query7 = '''SELECT AVG(item)\n",
    "FROM(\n",
    "SELECT character_id, COUNT(item_id) AS item\n",
    "FROM charactercreator_character_inventory\n",
    "GROUP BY character_id)\n",
    "LIMIT 20;'''"
   ]
  },
  {
   "cell_type": "code",
   "execution_count": 66,
   "metadata": {},
   "outputs": [],
   "source": [
    "#Execute the query.\n",
    "\n",
    "avg_char_items = curs7.execute(query7).fetchone()"
   ]
  },
  {
   "cell_type": "code",
   "execution_count": 67,
   "metadata": {},
   "outputs": [
    {
     "name": "stdout",
     "output_type": "stream",
     "text": [
      "(2.9735099337748343,)\n"
     ]
    }
   ],
   "source": [
    "print(avg_char_items)"
   ]
  },
  {
   "cell_type": "markdown",
   "metadata": {},
   "source": [
    "8) On average, how many Weapons does each character have?"
   ]
  },
  {
   "cell_type": "code",
   "execution_count": 56,
   "metadata": {},
   "outputs": [],
   "source": [
    "#Create a cursor object.\n",
    "\n",
    "curs8 = conn.cursor()"
   ]
  },
  {
   "cell_type": "code",
   "execution_count": 57,
   "metadata": {},
   "outputs": [],
   "source": [
    "query8 = '''SELECT AVG(has_weapon)\n",
    "FROM(\n",
    "SELECT inv.character_id, COUNT(item_ptr_id) AS has_weapon\n",
    "FROM charactercreator_character_inventory AS inv\n",
    "LEFT JOIN armory_weapon \n",
    "ON inv.item_id = armory_weapon.item_ptr_id\n",
    "GROUP BY character_id)\n",
    "LIMIT 20;'''"
   ]
  },
  {
   "cell_type": "code",
   "execution_count": 68,
   "metadata": {},
   "outputs": [],
   "source": [
    "#Execute the query.\n",
    "\n",
    "avg_char_weapons = curs8.execute(query8).fetchone()"
   ]
  },
  {
   "cell_type": "code",
   "execution_count": 69,
   "metadata": {},
   "outputs": [
    {
     "name": "stdout",
     "output_type": "stream",
     "text": [
      "(0.6721854304635762,)\n"
     ]
    }
   ],
   "source": [
    "print(avg_char_weapons)"
   ]
  },
  {
   "cell_type": "markdown",
   "metadata": {},
   "source": [
    "EXTRA:\n",
    "\n",
    "#Exact character_id that has weapon.\n",
    "\n",
    "SQL query:\n",
    "SELECT inv.character_id, weapon.item_ptr_id\n",
    "FROM charactercreator_character_inventory AS inv,\n",
    "armory_weapon AS weapon\n",
    "WHERE weapon.item_ptr_id = inv.item_id\n",
    "GROUP BY item_ptr_id;"
   ]
  }
 ],
 "metadata": {
  "kernelspec": {
   "display_name": "Python 3",
   "language": "python",
   "name": "python3"
  },
  "language_info": {
   "codemirror_mode": {
    "name": "ipython",
    "version": 3
   },
   "file_extension": ".py",
   "mimetype": "text/x-python",
   "name": "python",
   "nbconvert_exporter": "python",
   "pygments_lexer": "ipython3",
   "version": "3.7.3"
  }
 },
 "nbformat": 4,
 "nbformat_minor": 4
}
