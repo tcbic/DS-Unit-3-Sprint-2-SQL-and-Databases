{
 "cells": [
  {
   "cell_type": "code",
   "execution_count": 3,
   "metadata": {},
   "outputs": [],
   "source": [
    "import pandas as pd"
   ]
  },
  {
   "cell_type": "code",
   "execution_count": 4,
   "metadata": {},
   "outputs": [],
   "source": [
    "buddy = pd.read_csv('buddymove_holidayiq.csv')"
   ]
  },
  {
   "cell_type": "code",
   "execution_count": 5,
   "metadata": {},
   "outputs": [
    {
     "data": {
      "text/html": [
       "<div>\n",
       "<style scoped>\n",
       "    .dataframe tbody tr th:only-of-type {\n",
       "        vertical-align: middle;\n",
       "    }\n",
       "\n",
       "    .dataframe tbody tr th {\n",
       "        vertical-align: top;\n",
       "    }\n",
       "\n",
       "    .dataframe thead th {\n",
       "        text-align: right;\n",
       "    }\n",
       "</style>\n",
       "<table border=\"1\" class=\"dataframe\">\n",
       "  <thead>\n",
       "    <tr style=\"text-align: right;\">\n",
       "      <th></th>\n",
       "      <th>User Id</th>\n",
       "      <th>Sports</th>\n",
       "      <th>Religious</th>\n",
       "      <th>Nature</th>\n",
       "      <th>Theatre</th>\n",
       "      <th>Shopping</th>\n",
       "      <th>Picnic</th>\n",
       "    </tr>\n",
       "  </thead>\n",
       "  <tbody>\n",
       "    <tr>\n",
       "      <th>0</th>\n",
       "      <td>User 1</td>\n",
       "      <td>2</td>\n",
       "      <td>77</td>\n",
       "      <td>79</td>\n",
       "      <td>69</td>\n",
       "      <td>68</td>\n",
       "      <td>95</td>\n",
       "    </tr>\n",
       "    <tr>\n",
       "      <th>1</th>\n",
       "      <td>User 2</td>\n",
       "      <td>2</td>\n",
       "      <td>62</td>\n",
       "      <td>76</td>\n",
       "      <td>76</td>\n",
       "      <td>69</td>\n",
       "      <td>68</td>\n",
       "    </tr>\n",
       "    <tr>\n",
       "      <th>2</th>\n",
       "      <td>User 3</td>\n",
       "      <td>2</td>\n",
       "      <td>50</td>\n",
       "      <td>97</td>\n",
       "      <td>87</td>\n",
       "      <td>50</td>\n",
       "      <td>75</td>\n",
       "    </tr>\n",
       "    <tr>\n",
       "      <th>3</th>\n",
       "      <td>User 4</td>\n",
       "      <td>2</td>\n",
       "      <td>68</td>\n",
       "      <td>77</td>\n",
       "      <td>95</td>\n",
       "      <td>76</td>\n",
       "      <td>61</td>\n",
       "    </tr>\n",
       "    <tr>\n",
       "      <th>4</th>\n",
       "      <td>User 5</td>\n",
       "      <td>2</td>\n",
       "      <td>98</td>\n",
       "      <td>54</td>\n",
       "      <td>59</td>\n",
       "      <td>95</td>\n",
       "      <td>86</td>\n",
       "    </tr>\n",
       "  </tbody>\n",
       "</table>\n",
       "</div>"
      ],
      "text/plain": [
       "  User Id  Sports  Religious  Nature  Theatre  Shopping  Picnic\n",
       "0  User 1       2         77      79       69        68      95\n",
       "1  User 2       2         62      76       76        69      68\n",
       "2  User 3       2         50      97       87        50      75\n",
       "3  User 4       2         68      77       95        76      61\n",
       "4  User 5       2         98      54       59        95      86"
      ]
     },
     "execution_count": 5,
     "metadata": {},
     "output_type": "execute_result"
    }
   ],
   "source": [
    "buddy.head()"
   ]
  },
  {
   "cell_type": "code",
   "execution_count": 6,
   "metadata": {},
   "outputs": [],
   "source": [
    "import sqlite3"
   ]
  },
  {
   "cell_type": "code",
   "execution_count": 7,
   "metadata": {},
   "outputs": [],
   "source": [
    "#Establish a connection.\n",
    "\n",
    "conn = sqlite3.connect('buddymove_holidayiq.sqlite3')"
   ]
  },
  {
   "cell_type": "code",
   "execution_count": 10,
   "metadata": {
    "scrolled": true
   },
   "outputs": [
    {
     "name": "stderr",
     "output_type": "stream",
     "text": [
      "/home/tcbic/anaconda3/lib/python3.7/site-packages/pandas/core/generic.py:2531: UserWarning: The spaces in these column names will not be changed. In pandas versions < 0.14, spaces were converted to underscores.\n",
      "  dtype=dtype, method=method)\n"
     ]
    }
   ],
   "source": [
    "#Insert the data into a new table called \"review\" in the database.\n",
    "\n",
    "buddy.to_sql(name='review', con=conn)"
   ]
  },
  {
   "cell_type": "markdown",
   "metadata": {},
   "source": [
    "1) Count how many rows you have."
   ]
  },
  {
   "cell_type": "code",
   "execution_count": 11,
   "metadata": {},
   "outputs": [],
   "source": [
    "#Create a cursor.\n",
    "\n",
    "curs1 = conn.cursor()"
   ]
  },
  {
   "cell_type": "code",
   "execution_count": 12,
   "metadata": {},
   "outputs": [],
   "source": [
    "#Write a query.\n",
    "\n",
    "query1 = 'SELECT COUNT(*) FROM review;'"
   ]
  },
  {
   "cell_type": "code",
   "execution_count": 13,
   "metadata": {},
   "outputs": [],
   "source": [
    "#Execute the query.\n",
    "\n",
    "total_rows = curs1.execute(query1).fetchall()"
   ]
  },
  {
   "cell_type": "code",
   "execution_count": 14,
   "metadata": {},
   "outputs": [
    {
     "name": "stdout",
     "output_type": "stream",
     "text": [
      "[(249,)]\n"
     ]
    }
   ],
   "source": [
    "print(total_rows)"
   ]
  },
  {
   "cell_type": "markdown",
   "metadata": {},
   "source": [
    "2) How many users who reviewed at least 100 Nature in the category also reviewed at least 100 in the Shopping category?"
   ]
  },
  {
   "cell_type": "code",
   "execution_count": 25,
   "metadata": {},
   "outputs": [],
   "source": [
    "#Create a cursor.\n",
    "\n",
    "curs2 = conn.cursor()"
   ]
  },
  {
   "cell_type": "code",
   "execution_count": 26,
   "metadata": {},
   "outputs": [],
   "source": [
    "#Write a query.\n",
    "\n",
    "query2 = \"\"\"\n",
    "SELECT COUNT(*)\n",
    "FROM review\n",
    "WHERE Nature >= 100 AND Shopping >= 100;\n",
    "\"\"\""
   ]
  },
  {
   "cell_type": "code",
   "execution_count": 27,
   "metadata": {},
   "outputs": [],
   "source": [
    "#Execute the query.\n",
    "\n",
    "users = curs2.execute(query2).fetchall()"
   ]
  },
  {
   "cell_type": "code",
   "execution_count": 28,
   "metadata": {},
   "outputs": [
    {
     "name": "stdout",
     "output_type": "stream",
     "text": [
      "[(78,)]\n"
     ]
    }
   ],
   "source": [
    "print(users)"
   ]
  },
  {
   "cell_type": "markdown",
   "metadata": {},
   "source": [
    "3) (Stretch) What are the average number of reviews for each category?"
   ]
  },
  {
   "cell_type": "code",
   "execution_count": 29,
   "metadata": {},
   "outputs": [],
   "source": [
    "#Create a cursor.\n",
    "\n",
    "curs3 = conn.cursor()"
   ]
  },
  {
   "cell_type": "code",
   "execution_count": 30,
   "metadata": {},
   "outputs": [],
   "source": [
    "#Write a query.\n",
    "\n",
    "query3 = \"\"\"\n",
    "SELECT AVG(Sports), AVG(Religious), AVG(Nature), AVG(Theatre),\n",
    "AVG(Shopping), AVG(Picnic)\n",
    "FROM review;\"\"\""
   ]
  },
  {
   "cell_type": "code",
   "execution_count": 31,
   "metadata": {},
   "outputs": [],
   "source": [
    "avg_reviews_column = curs3.execute(query3).fetchall()"
   ]
  },
  {
   "cell_type": "code",
   "execution_count": 32,
   "metadata": {},
   "outputs": [
    {
     "name": "stdout",
     "output_type": "stream",
     "text": [
      "[(11.987951807228916, 109.77911646586345, 124.51807228915662, 116.37751004016064, 112.63855421686748, 120.40160642570281)]\n"
     ]
    }
   ],
   "source": [
    "print(avg_reviews_column)"
   ]
  }
 ],
 "metadata": {
  "kernelspec": {
   "display_name": "Python 3",
   "language": "python",
   "name": "python3"
  },
  "language_info": {
   "codemirror_mode": {
    "name": "ipython",
    "version": 3
   },
   "file_extension": ".py",
   "mimetype": "text/x-python",
   "name": "python",
   "nbconvert_exporter": "python",
   "pygments_lexer": "ipython3",
   "version": "3.7.3"
  }
 },
 "nbformat": 4,
 "nbformat_minor": 2
}
